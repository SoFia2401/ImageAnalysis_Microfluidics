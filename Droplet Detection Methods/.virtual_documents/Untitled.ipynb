from segment_anything import sam_model_registry, SamAutomaticMaskGenerator
import torch
import cv2
sam = sam_model_registry["vit_h"](checkpoint="sam_vit_h_4b8939.pth")
DEVICE = torch.device('cuda:0' if torch.cuda.is_available() else 'cpu')
sam.to(device=DEVICE)
mask_generator = SamAutomaticMaskGenerator(sam)
image = cv2.imread("Cropped_Qc_0p30mLminQ_d0p07Lmin_freq1000Hz_Img000507_srcnn_x4.png")
masks = mask_generator.generate(image)


import supervision as sv

mask_annotator = sv.MaskAnnotator()
detections = sv.Detections.from_sam(masks)
annotated_image = mask_annotator.annotate(image, detections)


cv2.imshow("Annotated Image", annotated_image)
cv2.waitKey(0)
cv2.destroyAllWindows()


import numpy as np
import os
import cv2
import torch
from segment_anything import sam_model_registry, SamAutomaticMaskGenerator

def calculate_dice_score(mask1, mask2):
    intersection = np.logical_and(mask1, mask2)
    dice_score = (2.0 * intersection.sum()) / (mask1.sum() + mask2.sum())
    return dice_score

def calculate_iou(mask1, mask2):
    union = np.logical_or(mask1, mask2)
    intersection = np.logical_and(mask1, mask2)
    iou = intersection.sum() / union.sum()
    return iou

# Load the SAM model and set the device
sam = sam_model_registry["vit_h"](checkpoint="sam_vit_h_4b8939.pth")
DEVICE = torch.device('cuda:0' if torch.cuda.is_available() else 'cpu')
sam.to(device=DEVICE)

# Create the mask generator
mask_generator = SamAutomaticMaskGenerator(sam)

# Folder path containing the images
folder_path = "Images"

# Create empty lists to store dice scores and IoU values
dice_scores_bicubic = []
dice_scores_srcnn = []
ious_bicubic = []
ious_srcnn = []

# Iterate over the images in the folder
for filename in os.listdir(folder_path):
    if filename.endswith(".tif") and if not filename.endswith("_bicubic_x4.tif") and if not filename.endswith("_srcnn_x4.tif"):  # Assuming all images are in tif format
        # High-resolution image path
        high_res_image_path = os.path.join(folder_path, filename)

        # Get the corresponding bicubic and SRCNN image paths
        bicubic_image_path = os.path.join(folder_path, filename.replace(".tif", "_bicubic_x4.tif"))
        srcnn_image_path = os.path.join(folder_path, filename.replace(".tif", "_srcnn_x4.tif"))

        # Load the images
        high_res_image = cv2.imread(high_res_image_path)
        bicubic_image = cv2.imread(bicubic_image_path)
        srcnn_image = cv2.imread(srcnn_image_path)

        # Generate masks for each image
        high_res_masks = mask_generator.generate(high_res_image)
        bicubic_masks = mask_generator.generate(bicubic_image)
        srcnn_masks = mask_generator.generate(srcnn_image)

        # Compare non-background masks
        non_background_high_res = high_res_masks["non_background"]
        non_background_bicubic = bicubic_masks["non_background"]
        non_background_srcnn = srcnn_masks["non_background"]

        # Calculate Dice score and IoU
        dice_score_bicubic = calculate_dice_score(non_background_high_res, non_background_bicubic)
        dice_score_srcnn = calculate_dice_score(non_background_high_res, non_background_srcnn)
        iou_bicubic = calculate_iou(non_background_high_res, non_background_bicubic)
        iou_srcnn = calculate_iou(non_background_high_res, non_background_srcnn)

        # Print the overall measures and standard deviations
        print("Dice score (Bicubic):", dice_score_bicubic)
        print("Dice score (SRCNN):", dice_score_srcnn)
        print("IoU (Bicubic):", iou_bicubic)
        print("IoU (SRCNN):", iou_srcnn)

        # Store the results in the lists
        dice_scores_bicubic.append(dice_score_bicubic)
        dice_scores_srcnn.append(dice_score_srcnn)
        ious_bicubic.append(iou_bicubic)
        ious_srcnn.append(iou_srcnn)

# Calculate overall measures and standard deviations
overall_dice_bicubic = np.mean(dice_scores_bicubic)
overall_dice_srcnn = np.mean(dice_scores_srcnn)
overall_iou_bicubic = np.mean(ious_bicubic)
overall_iou_srcnn = np.mean(ious_srcnn)

std_dice_bicubic = np.std(dice_scores_bicubic)
std_dice_srcnn = np.std(dice_scores_srcnn)
std_iou_bicubic = np.std(ious_bicubic)
std_iou_srcnn = np.std(ious_srcnn)

# Print the overall measures and standard deviations
print("Overall Dice score (Bicubic):", overall_dice_bicubic)
print("Overall Dice score (SRCNN):", overall_dice_srcnn)
print("Overall IoU (Bicubic):", overall_iou_bicubic)
print("Overall IoU (SRCNN):", overall_iou_srcnn)

print("Standard Deviation Dice score (Bicubic):", std_dice_bicubic)
print("Standard Deviation Dice score (SRCNN):", std_dice_srcnn)
print("Standard Deviation IoU (Bicubic):", std_iou_bicubic)
print("Standard Deviation IoU (SRCNN):", std_iou_srcnn)



