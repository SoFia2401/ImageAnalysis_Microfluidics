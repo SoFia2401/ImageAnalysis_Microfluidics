import os
from PIL import Image
import numpy as np

def convert_16bit_to_8bit(directory, output_directory):
    # Create the output directory if it doesn't exist
    os.makedirs(output_directory, exist_ok=True)

    # Get a list of all subdirectories within the main directory
    subdirectories = [os.path.join(directory, d) for d in os.listdir(directory) if os.path.isdir(os.path.join(directory, d))]

    # Iterate through each subdirectory
    for subdirectory in subdirectories:
        # Create the corresponding subdirectory in the output directory
        relative_path = os.path.relpath(subdirectory, directory)
        output_subdirectory = os.path.join(output_directory, relative_path)
        os.makedirs(output_subdirectory, exist_ok=True)

        # Get a list of TIFF image files within the subdirectory
        image_files = [f for f in os.listdir(subdirectory) if os.path.isfile(os.path.join(subdirectory, f)) and f.lower().endswith(".tif")]

        print("Saved " + subdirectory)

        # Iterate through each TIFF image file
        for image_file in image_files:
            # Open the image using PIL
            image_path = os.path.join(subdirectory, image_file)
            image = Image.open(image_path)

            # Convert the image to a numpy array
            pixels = np.array(image)

            # Linearly scale the pixel values from the minimum-maximum range to 0-255
            min_val = np.min(pixels)
            max_val = np.max(pixels)
            scaled_pixels = ((pixels - min_val) / (max_val - min_val) * 255).astype(np.uint8)

            # Create a new PIL image from the scaled pixel values
            image_8bit = Image.fromarray(scaled_pixels)

            # Save the 8-bit image in the corresponding output subdirectory
            output_path = os.path.join(output_subdirectory, image_file)
            image_8bit.save(output_path)


# Example usage
input_directory = "/home/daniel/Documents/Super Resolution/Sofia_experiments"
output_directory = "/home/daniel/Documents/Super Resolution/Sofia_experiments_8bit"
convert_16bit_to_8bit(input_directory, output_directory)
print("Finished")


from PIL import Image
import os

def crop_images(input_directory, output_directory, target_width, target_height, top_margin, bottom_margin, left_margin, right_margin):
    # Create the output directory if it doesn't exist
    os.makedirs(output_directory, exist_ok=True)


    for filename in os.listdir(input_directory):
        if filename.endswith(".tif"):
            input_filepath = os.path.join(input_directory, filename)
            output_filepath = os.path.join(output_directory, filename)

            img = Image.open(input_filepath)

            width, height = img.size
            left = left_margin
            top = top_margin
            right = width - right_margin
            bottom = height - bottom_margin

            cropped_img = img.crop((left, top, right, bottom))
            cropped_img.save(output_filepath)

            #print(f"Cropped {filename} to {target_width}x{target_height} dimensions and saved to {output_directory}.")

# Usage example
crop_images("/home/daniel/Documents/Super Resolution/Sofia_experiments_8bit/Qc_0p35mLminQ_d0p07Lmin_freq1000Hz",\
            "/home/daniel/Documents/Super Resolution/Preprocessed/Cropped_Qc_0p35mLminQ_d0p07Lmin_freq1000Hz",\
            800, 300, 40, 50, 0, 350)
print("Finished")



import os
import shutil

def copy_images_with_prefix(directory, destination_directory):
    # Get a list of subdirectories (folders) in the given directory
    subdirectories = [subdir for subdir in os.listdir(directory) if os.path.isdir(os.path.join(directory, subdir))]

    # Iterate over each subdirectory
    for subdir in subdirectories:
        subdir_path = os.path.join(directory, subdir)

        # Get a list of images in the current subdirectory
        images = [img for img in os.listdir(subdir_path) if os.path.isfile(os.path.join(subdir_path, img))]

        # Iterate over each image in the subdirectory
        for img in images:
            # Prefix the image name with the name of the original folder
            new_img_name = subdir + '_' + img

            # Copy the image to the destination directory with the prefixed name
            shutil.copy2(os.path.join(subdir_path, img), os.path.join(destination_directory, new_img_name))

    print("Image copying completed successfully!")

# Example usage
directory = '/home/daniel/Documents/Super Resolution/Preprocessed'  # Directory containing folders with images
destination_directory = '/home/daniel/Documents/Super Resolution/AllPreprocessed'  # Destination directory for copied images

copy_images_with_prefix(directory, destination_directory)


import os
import random
import shutil

def split_images(total_images, train_percentage, test_percentage, eval_percentage, directory):
    # Create train, eval, and test directories if they don't exist
    if not os.path.exists('train'):
        os.makedirs('train')
    if not os.path.exists('eval'):
        os.makedirs('eval')
    if not os.path.exists('test'):
        os.makedirs('test')

    # Get a list of images in the directory
    images = [img for img in os.listdir(directory) if os.path.isfile(os.path.join(directory, img))]

    # Calculate the number of images for each split
    num_train = int(total_images * train_percentage)
    num_test = int(total_images * test_percentage)
    num_eval = int(total_images * eval_percentage)

    # Shuffle the images randomly
    random.shuffle(images)

    # Select images for train, test, and eval
    train_images = images[:num_train]
    test_images = images[num_train:num_train + num_test]
    eval_images = images[num_train + num_test:num_train + num_test + num_eval]

    # Move or copy the selected images to their respective directories
    for img in train_images:
        shutil.copy2(os.path.join(directory, img), os.path.join('train', img))
    for img in test_images:
        shutil.copy2(os.path.join(directory, img), os.path.join('test', img))
    for img in eval_images:
        shutil.copy2(os.path.join(directory, img), os.path.join('eval', img))

    print("Image splitting completed successfully!")

# Example usage
total_images = 1000# Total number of images to consider
train_percentage = 0.8  # Percentage of images for training
test_percentage = 0.1  # Percentage of images for testing
eval_percentage = 0.1  # Percentage of images for evaluation
directory = '/home/daniel/Documents/Super Resolution/AllPreprocessed'  # Directory containing all the images

split_images(total_images, train_percentage, test_percentage, eval_percentage, directory)


import argparse
import glob
import numpy as np
import os
import PIL.Image as pil_image

def downsample_images(images_dir, output_dir, scale):
    os.makedirs(output_dir, exist_ok=True)

    image_files = sorted(glob.glob('{}/*.tif'.format(images_dir)))

    for image_path in image_files:
        image_name = os.path.basename(image_path)
        output_path = os.path.join(output_dir, image_name)

        hr = Image.open(image_path)
        width, height = hr.size

        hr_width = (width // scale) * scale
        hr_height = (height // scale) *scale

        hr = hr.resize((hr_width, hr_height), resample=pil_image.BICUBIC)
        lr = hr.resize((hr_width // scale, hr_height // scale), resample=pil_image.BICUBIC)
        lr = lr.resize((lr.width * scale, lr.height * scale), resample=pil_image.BICUBIC)

        lr.save(output_path)

        #print("Downsampled image saved:", output_path)


downsample_images("/home/daniel/Documents/SRCNN_pytorch2/train/hr",\
                  "/home/daniel/Documents/SRCNN_pytorch2/train/lr", 4)



